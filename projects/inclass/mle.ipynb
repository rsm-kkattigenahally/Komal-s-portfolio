{
 "cells": [
  {
   "cell_type": "code",
   "execution_count": 2,
   "id": "24f42ccf",
   "metadata": {},
   "outputs": [],
   "source": [
    "import pandas as pd"
   ]
  },
  {
   "cell_type": "code",
   "execution_count": 3,
   "id": "c56e3bed",
   "metadata": {},
   "outputs": [],
   "source": [
    "purch_data = pd.read_csv('purchase.csv')"
   ]
  },
  {
   "cell_type": "markdown",
   "id": "944dc293",
   "metadata": {},
   "source": [
    "Using glm"
   ]
  },
  {
   "cell_type": "code",
   "execution_count": 4,
   "id": "3bc93bd6",
   "metadata": {},
   "outputs": [
    {
     "data": {
      "text/html": [
       "<table class=\"simpletable\">\n",
       "<caption>Generalized Linear Model Regression Results</caption>\n",
       "<tr>\n",
       "  <th>Dep. Variable:</th>       <td>purchase</td>     <th>  No. Observations:  </th>  <td>  2000</td> \n",
       "</tr>\n",
       "<tr>\n",
       "  <th>Model:</th>                  <td>GLM</td>       <th>  Df Residuals:      </th>  <td>  1998</td> \n",
       "</tr>\n",
       "<tr>\n",
       "  <th>Model Family:</th>        <td>Binomial</td>     <th>  Df Model:          </th>  <td>     1</td> \n",
       "</tr>\n",
       "<tr>\n",
       "  <th>Link Function:</th>         <td>Logit</td>      <th>  Scale:             </th> <td>  1.0000</td>\n",
       "</tr>\n",
       "<tr>\n",
       "  <th>Method:</th>                <td>IRLS</td>       <th>  Log-Likelihood:    </th> <td> -769.29</td>\n",
       "</tr>\n",
       "<tr>\n",
       "  <th>Date:</th>            <td>Fri, 02 May 2025</td> <th>  Deviance:          </th> <td>  1538.6</td>\n",
       "</tr>\n",
       "<tr>\n",
       "  <th>Time:</th>                <td>14:38:29</td>     <th>  Pearson chi2:      </th> <td>2.03e+03</td>\n",
       "</tr>\n",
       "<tr>\n",
       "  <th>No. Iterations:</th>          <td>5</td>        <th>  Pseudo R-squ. (CS):</th>  <td>0.06354</td>\n",
       "</tr>\n",
       "<tr>\n",
       "  <th>Covariance Type:</th>     <td>nonrobust</td>    <th>                     </th>     <td> </td>   \n",
       "</tr>\n",
       "</table>\n",
       "<table class=\"simpletable\">\n",
       "<tr>\n",
       "    <td></td>       <th>coef</th>     <th>std err</th>      <th>z</th>      <th>P>|z|</th>  <th>[0.025</th>    <th>0.975]</th>  \n",
       "</tr>\n",
       "<tr>\n",
       "  <th>const</th> <td>   -3.2196</td> <td>    0.160</td> <td>  -20.175</td> <td> 0.000</td> <td>   -3.532</td> <td>   -2.907</td>\n",
       "</tr>\n",
       "<tr>\n",
       "  <th>idx</th>   <td>    0.0325</td> <td>    0.003</td> <td>   11.142</td> <td> 0.000</td> <td>    0.027</td> <td>    0.038</td>\n",
       "</tr>\n",
       "</table>"
      ],
      "text/latex": [
       "\\begin{center}\n",
       "\\begin{tabular}{lclc}\n",
       "\\toprule\n",
       "\\textbf{Dep. Variable:}   &     purchase     & \\textbf{  No. Observations:  } &     2000    \\\\\n",
       "\\textbf{Model:}           &       GLM        & \\textbf{  Df Residuals:      } &     1998    \\\\\n",
       "\\textbf{Model Family:}    &     Binomial     & \\textbf{  Df Model:          } &        1    \\\\\n",
       "\\textbf{Link Function:}   &      Logit       & \\textbf{  Scale:             } &    1.0000   \\\\\n",
       "\\textbf{Method:}          &       IRLS       & \\textbf{  Log-Likelihood:    } &   -769.29   \\\\\n",
       "\\textbf{Date:}            & Fri, 02 May 2025 & \\textbf{  Deviance:          } &    1538.6   \\\\\n",
       "\\textbf{Time:}            &     14:38:29     & \\textbf{  Pearson chi2:      } &  2.03e+03   \\\\\n",
       "\\textbf{No. Iterations:}  &        5         & \\textbf{  Pseudo R-squ. (CS):} &  0.06354    \\\\\n",
       "\\textbf{Covariance Type:} &    nonrobust     & \\textbf{                     } &             \\\\\n",
       "\\bottomrule\n",
       "\\end{tabular}\n",
       "\\begin{tabular}{lcccccc}\n",
       "               & \\textbf{coef} & \\textbf{std err} & \\textbf{z} & \\textbf{P$> |$z$|$} & \\textbf{[0.025} & \\textbf{0.975]}  \\\\\n",
       "\\midrule\n",
       "\\textbf{const} &      -3.2196  &        0.160     &   -20.175  &         0.000        &       -3.532    &       -2.907     \\\\\n",
       "\\textbf{idx}   &       0.0325  &        0.003     &    11.142  &         0.000        &        0.027    &        0.038     \\\\\n",
       "\\bottomrule\n",
       "\\end{tabular}\n",
       "%\\caption{Generalized Linear Model Regression Results}\n",
       "\\end{center}"
      ],
      "text/plain": [
       "<class 'statsmodels.iolib.summary.Summary'>\n",
       "\"\"\"\n",
       "                 Generalized Linear Model Regression Results                  \n",
       "==============================================================================\n",
       "Dep. Variable:               purchase   No. Observations:                 2000\n",
       "Model:                            GLM   Df Residuals:                     1998\n",
       "Model Family:                Binomial   Df Model:                            1\n",
       "Link Function:                  Logit   Scale:                          1.0000\n",
       "Method:                          IRLS   Log-Likelihood:                -769.29\n",
       "Date:                Fri, 02 May 2025   Deviance:                       1538.6\n",
       "Time:                        14:38:29   Pearson chi2:                 2.03e+03\n",
       "No. Iterations:                     5   Pseudo R-squ. (CS):            0.06354\n",
       "Covariance Type:            nonrobust                                         \n",
       "==============================================================================\n",
       "                 coef    std err          z      P>|z|      [0.025      0.975]\n",
       "------------------------------------------------------------------------------\n",
       "const         -3.2196      0.160    -20.175      0.000      -3.532      -2.907\n",
       "idx            0.0325      0.003     11.142      0.000       0.027       0.038\n",
       "==============================================================================\n",
       "\"\"\""
      ]
     },
     "execution_count": 4,
     "metadata": {},
     "output_type": "execute_result"
    }
   ],
   "source": [
    "import statsmodels.api as sm\n",
    "\n",
    "# Define the independent variable (with a constant for the intercept)\n",
    "X = sm.add_constant(purch_data['idx'])\n",
    "\n",
    "# Define the dependent variable\n",
    "y = purch_data['purchase']\n",
    "\n",
    "# Fit the GLM model with a binomial family (logistic regression)\n",
    "glm_model = sm.GLM(y, X, family=sm.families.Binomial()).fit()\n",
    "glm_model.summary()"
   ]
  },
  {
   "cell_type": "code",
   "execution_count": 5,
   "id": "e40c09ca",
   "metadata": {},
   "outputs": [
    {
     "name": "stdout",
     "output_type": "stream",
     "text": [
      "              0         1\n",
      "const -3.532406 -2.906838\n",
      "idx    0.026805  0.038249\n"
     ]
    }
   ],
   "source": [
    "\n",
    "# Calculate the confidence intervals\n",
    "confidence_intervals = glm_model.conf_int()\n",
    "print(confidence_intervals)"
   ]
  },
  {
   "cell_type": "markdown",
   "id": "757b694e",
   "metadata": {},
   "source": [
    "using manual method for MLE and calculating standard errors\n"
   ]
  },
  {
   "cell_type": "markdown",
   "id": "ebd9aa17",
   "metadata": {},
   "source": [
    "You want to compute the standard errors of the estimated coefficients from your manual MLE (maximum likelihood estimation) of logistic regression.\n",
    "\n",
    "In statistics, standard errors indicate how precise your parameter estimates are — they’re derived from the curvature (second derivatives) of the likelihood function, i.e., the Hessian matrix.\n",
    "\n",
    "When using scipy.optimize.minimize(), the result object can include the inverse Hessian (hess_inv), which approximates the covariance matrix of the estimated coefficients.\n",
    "\n",
    "The Hessian is the matrix of second derivatives of the negative log-likelihood function\n",
    "\n",
    "The diagonal of the inverse Hessian gives the variance estimates of the coefficients.\n",
    "\n",
    "Taking the square root gives the standard errors.\n",
    "\n",
    "These are directly comparable to what glm_model.bse gives in the built-in statsmodels logistic regression."
   ]
  },
  {
   "cell_type": "code",
   "execution_count": 6,
   "id": "519863b7",
   "metadata": {},
   "outputs": [
    {
     "name": "stdout",
     "output_type": "stream",
     "text": [
      "Optimization terminated successfully.\n",
      "         Current function value: 769.287143\n",
      "         Iterations: 23\n",
      "         Function evaluations: 37\n",
      "         Gradient evaluations: 37\n",
      "         Hessian evaluations: 23\n",
      "Estimated coefficients: [-3.21962193  0.03252663]\n",
      "Standard errors (manual): [0.15958658 0.00291937]\n",
      "95% CI for beta_0: (-3.5324, -2.9068)\n",
      "95% CI for beta_1: (0.0268, 0.0382)\n"
     ]
    }
   ],
   "source": [
    "import numpy as np\n",
    "import pandas as pd\n",
    "import statsmodels.api as sm\n",
    "from scipy.optimize import minimize\n",
    "from scipy.stats import norm\n",
    "\n",
    "# Prepare data\n",
    "X = sm.add_constant(purch_data[['idx']])\n",
    "y = purch_data['purchase']\n",
    "\n",
    "X_np = X.values\n",
    "y_np = y.values\n",
    "\n",
    "# Define the negative log-likelihood function\n",
    "def neg_log_likelihood(beta, X, y):\n",
    "    z = np.dot(X, beta)\n",
    "    pi = 1 / (1 + np.exp(-z))\n",
    "    pi = np.clip(pi, 1e-8, 1 - 1e-8)\n",
    "    ll = np.sum(y * np.log(pi) + (1 - y) * np.log(1 - pi))\n",
    "    return -ll\n",
    "\n",
    "# Define the gradient (first derivative)\n",
    "def grad_neg_log_likelihood(beta, X, y):\n",
    "    pi = 1 / (1 + np.exp(-np.dot(X, beta)))\n",
    "    return -np.dot(X.T, y - pi)\n",
    "\n",
    "# Define the Hessian (second derivative)\n",
    "def hess_neg_log_likelihood(beta, X):\n",
    "    pi = 1 / (1 + np.exp(-np.dot(X, beta)))\n",
    "    W = np.diag(pi * (1 - pi))\n",
    "    return np.dot(X.T, np.dot(W, X))\n",
    "\n",
    "# Initial guess\n",
    "initial_beta = np.zeros(X.shape[1])\n",
    "\n",
    "# Run minimization with gradient and Hessian\n",
    "result = minimize(\n",
    "    neg_log_likelihood,\n",
    "    initial_beta,\n",
    "    args=(X_np, y_np),\n",
    "    method='Newton-CG',\n",
    "    jac=grad_neg_log_likelihood,\n",
    "    hess=lambda b, X, y: hess_neg_log_likelihood(b, X),\n",
    "    options={'xtol': 1e-8, 'disp': True}\n",
    ")\n",
    "\n",
    "# Estimated coefficients\n",
    "beta_hat = result.x\n",
    "print(\"Estimated coefficients:\", beta_hat)\n",
    "\n",
    "# Compute Hessian at optimum\n",
    "hessian = hess_neg_log_likelihood(beta_hat, X_np)\n",
    "\n",
    "# Invert Hessian to get variance-covariance matrix\n",
    "cov_matrix = np.linalg.inv(hessian)\n",
    "standard_errors = np.sqrt(np.diag(cov_matrix))\n",
    "print(\"Standard errors (manual):\", standard_errors)\n",
    "\n",
    "# 95% confidence intervals\n",
    "z = norm.ppf(0.975)\n",
    "lower = beta_hat - z * standard_errors\n",
    "upper = beta_hat + z * standard_errors\n",
    "\n",
    "for i, (l, u) in enumerate(zip(lower, upper)):\n",
    "    print(f\"95% CI for beta_{i}: ({l:.4f}, {u:.4f})\")\n"
   ]
  },
  {
   "cell_type": "markdown",
   "id": "2eb60cb5",
   "metadata": {},
   "source": [
    "Bootstrap method"
   ]
  },
  {
   "cell_type": "code",
   "execution_count": 7,
   "id": "005c5ed8",
   "metadata": {},
   "outputs": [],
   "source": [
    "import numpy as np\n",
    "import pandas as pd\n",
    "import statsmodels.api as sm\n",
    "\n",
    "# Setup\n",
    "X = sm.add_constant(purch_data[['idx']])\n",
    "y = purch_data['purchase']\n",
    "X_np = X.values\n",
    "y_np = y.values\n",
    "\n",
    "# Store slope coefficient (index 1 because index 0 is intercept)\n",
    "slope_boot = []\n",
    "\n",
    "# Bootstrap parameters\n",
    "n_boot = 1000\n",
    "np.random.seed(42)\n",
    "\n",
    "for _ in range(n_boot):\n",
    "    # Sample with replacement\n",
    "    idx_sample = np.random.choice(len(y_np), size=len(y_np), replace=True)\n",
    "    X_sample = X_np[idx_sample]\n",
    "    y_sample = y_np[idx_sample]\n",
    "\n",
    "    # Fit model on bootstrap sample\n",
    "    def neg_log_likelihood(beta, X, y):\n",
    "        pi = 1 / (1 + np.exp(-np.dot(X, beta)))\n",
    "        pi = np.clip(pi, 1e-8, 1 - 1e-8)\n",
    "        ll = np.sum(y * np.log(pi) + (1 - y) * np.log(1 - pi))\n",
    "        return -ll\n",
    "\n",
    "    res = minimize(\n",
    "        neg_log_likelihood,\n",
    "        x0=np.zeros(X_np.shape[1]),\n",
    "        args=(X_sample, y_sample),\n",
    "        method='BFGS'\n",
    "    )\n",
    "\n",
    "    # Store slope coefficient (beta[1])\n",
    "    if res.success:\n",
    "        slope_boot.append(res.x[1])\n",
    "\n",
    "slope_boot = np.array(slope_boot)\n"
   ]
  },
  {
   "cell_type": "code",
   "execution_count": 10,
   "id": "273ccd48",
   "metadata": {},
   "outputs": [
    {
     "name": "stdout",
     "output_type": "stream",
     "text": [
      "Bootstrap CI (Std Dev approach): (0.0271818769043601, 0.037844233597841)\n"
     ]
    }
   ],
   "source": [
    "slope_mean = np.mean(slope_boot)\n",
    "slope_std = np.std(slope_boot, ddof=1)  # sample std dev\n",
    "z = 1.96  # 95% CI\n",
    "\n",
    "ci_std = (slope_mean - z * slope_std, slope_mean + z * slope_std)\n",
    "print(f\"Bootstrap CI (Std Dev approach): {ci_std}\")\n"
   ]
  },
  {
   "cell_type": "code",
   "execution_count": 12,
   "id": "0c597476",
   "metadata": {},
   "outputs": [
    {
     "data": {
      "image/png": "[encoded data removed]",
      "text/plain": [
       "<Figure size 1000x600 with 1 Axes>"
      ]
     },
     "metadata": {},
     "output_type": "display_data"
    }
   ],
   "source": [
    "import numpy as np\n",
    "\n",
    "import matplotlib.pyplot as plt\n",
    "\n",
    "# Plot 1: Distribution of bootstrap slope coefficients\n",
    "plt.figure(figsize=(10, 6))\n",
    "plt.hist(slope_boot, bins=30, color='skyblue', edgecolor='black', alpha=0.7)\n",
    "plt.axvline(slope_mean, color='red', linestyle='--', label=f'Mean: {slope_mean:.4f}')\n",
    "plt.title('Distribution of Bootstrap Slope Coefficients')\n",
    "plt.xlabel('Slope Coefficient')\n",
    "plt.ylabel('Frequency')\n",
    "plt.legend()\n",
    "plt.show()\n",
    "\n"
   ]
  },
  {
   "cell_type": "markdown",
   "id": "54ae1479",
   "metadata": {},
   "source": [
    "In class 2"
   ]
  },
  {
   "cell_type": "code",
   "execution_count": 13,
   "id": "dce9361d",
   "metadata": {},
   "outputs": [],
   "source": [
    "maxdiff = pd.read_excel('maxdiff.xlsx')"
   ]
  },
  {
   "cell_type": "code",
   "execution_count": 22,
   "id": "415852b3",
   "metadata": {},
   "outputs": [
    {
     "name": "stdout",
     "output_type": "stream",
     "text": [
      "      Count of -1  Count of 0  Count of 1\n",
      "Item                                     \n",
      "4              49          39          14\n",
      "1              41          42          22\n",
      "7              32          46          24\n",
      "3              31          54          14\n",
      "11             31          57          15\n",
      "8              26          19          58\n",
      "10             25          62          15\n",
      "6              20          37          43\n",
      "12             17          43          45\n",
      "9              16          77          10\n",
      "13             16          78           9\n",
      "2              15          63          23\n",
      "5              14          49          41\n"
     ]
    }
   ],
   "source": [
    "# Count the occurrences of each Response value for each Item\n",
    "response_counts = maxdiff.groupby(['Item', 'Response']).size().unstack(fill_value=0)\n",
    "\n",
    "# Rename the columns for clarity\n",
    "response_counts.columns = ['Count of -1', 'Count of 0', 'Count of 1']\n",
    "# Sort the response_counts DataFrame by 'Count of 1' in descending order\n",
    "response_counts = response_counts.sort_values(by=['Count of -1'], ascending=False)\n",
    "print(response_counts)"
   ]
  }
 ],
 "metadata": {
  "kernelspec": {
   "display_name": "base",
   "language": "python",
   "name": "python3"
  },
  "language_info": {
   "codemirror_mode": {
    "name": "ipython",
    "version": 3
   },
   "file_extension": ".py",
   "mimetype": "text/x-python",
   "name": "python",
   "nbconvert_exporter": "python",
   "pygments_lexer": "ipython3",
   "version": "3.12.4"
  }
 },
 "nbformat": 4,
 "nbformat_minor": 5
}
